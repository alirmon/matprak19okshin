{
 "cells": [
  {
   "cell_type": "markdown",
   "metadata": {},
   "source": [
    "Задача 1"
   ]
  },
  {
   "cell_type": "code",
   "execution_count": 62,
   "metadata": {
    "scrolled": true
   },
   "outputs": [
    {
     "name": "stdout",
     "output_type": "stream",
     "text": [
      "[-0.43693556 -0.43584794 -0.4234816  -0.22724396 -0.29765338 -0.36053134\n",
      " -0.39491558 -0.41665812 -0.39460522 -0.43382406]\n"
     ]
    }
   ],
   "source": [
    "import numpy as np\n",
    "a= np.random.random((10,3))\n",
    "b=a-[0.5,0.5,0.5]\n",
    "c=np.min(abs(b)-0.5,axis=1)\n",
    "print(c)"
   ]
  },
  {
   "cell_type": "markdown",
   "metadata": {},
   "source": [
    "Задача 2"
   ]
  },
  {
   "cell_type": "code",
   "execution_count": 69,
   "metadata": {},
   "outputs": [
    {
     "name": "stdout",
     "output_type": "stream",
     "text": [
      "2.722209723994298\n",
      "4.050354537024298\n",
      "2.1682671762478334\n",
      "2.4488553917958753\n",
      "3.8189794303520723\n",
      "4.035195705346916\n"
     ]
    }
   ],
   "source": [
    "\n",
    "a= np.random.random((6,6))\n",
    "b=a\n",
    "np.transpose(b)\n",
    "for i in range(6):\n",
    "    print(a[i].sum()/b[i].max())\n"
   ]
  },
  {
   "cell_type": "markdown",
   "metadata": {},
   "source": [
    "Задача 3"
   ]
  },
  {
   "cell_type": "code",
   "execution_count": 51,
   "metadata": {},
   "outputs": [
    {
     "name": "stdout",
     "output_type": "stream",
     "text": [
      "5\n"
     ]
    }
   ],
   "source": [
    "\n",
    "x = np.array([6, 2, 0, 3, 0, 0, 5, 7, 0])\n",
    "\n",
    "mask= x==0\n",
    "print (x[1:][mask[:-1]].max())\n",
    "\n"
   ]
  },
  {
   "cell_type": "markdown",
   "metadata": {},
   "source": [
    "Задача 4"
   ]
  },
  {
   "cell_type": "code",
   "execution_count": 53,
   "metadata": {},
   "outputs": [
    {
     "name": "stdout",
     "output_type": "stream",
     "text": [
      "[2. 2. 2. 2. 1. 4. 1. 1. 2. 1.]\n"
     ]
    }
   ],
   "source": [
    "\n",
    "x = np.ones(10) \n",
    "i = np.array([0, 1, 2, 3, 5, 5, 5, 8])\n",
    "\n",
    "x+=np.bincount(i,minlength=len(x))\n",
    "print (x)"
   ]
  },
  {
   "cell_type": "markdown",
   "metadata": {},
   "source": [
    "Задача 5"
   ]
  },
  {
   "cell_type": "code",
   "execution_count": 71,
   "metadata": {},
   "outputs": [
    {
     "name": "stdout",
     "output_type": "stream",
     "text": [
      "{0: array([0]), 1: array([4, 1]), 2: array([8, 5, 2]), 3: array([12,  9,  6,  3]), 4: array([13, 10,  7]), 5: array([14, 11]), 6: array([15])}\n"
     ]
    }
   ],
   "source": [
    "\n",
    "a=np.arange(16).reshape(4,4)\n",
    "di= [a[::-1,:].diagonal(i) for i in range(-a.shape[0]+1, a.shape[1])]\n",
    "b={j:di[j] for j in range(7)}\n",
    "print (b)"
   ]
  },
  {
   "cell_type": "code",
   "execution_count": null,
   "metadata": {},
   "outputs": [],
   "source": []
  }
 ],
 "metadata": {
  "kernelspec": {
   "display_name": "Python 3",
   "language": "python",
   "name": "python3"
  },
  "language_info": {
   "codemirror_mode": {
    "name": "ipython",
    "version": 3
   },
   "file_extension": ".py",
   "mimetype": "text/x-python",
   "name": "python",
   "nbconvert_exporter": "python",
   "pygments_lexer": "ipython3",
   "version": "3.6.4"
  }
 },
 "nbformat": 4,
 "nbformat_minor": 2
}
