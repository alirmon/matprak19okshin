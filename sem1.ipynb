{
 "cells": [
  {
   "cell_type": "markdown",
   "metadata": {},
   "source": [
    "Rock paper scissors 3 pepper"
   ]
  },
  {
   "cell_type": "code",
   "execution_count": 10,
   "metadata": {},
   "outputs": [
    {
     "name": "stdout",
     "output_type": "stream",
     "text": [
      "Player A, Rock Paper Scissors?rock\n",
      "Player B, Rock Paper Scissors?paper\n",
      "Player B win!\n",
      "Do you want to play again?yes\n",
      "Player A, Rock Paper Scissors?paper\n",
      "Player B, Rock Paper Scissors?rock\n",
      "Player A win!\n",
      "Do you want to play again?no\n"
     ]
    }
   ],
   "source": [
    "t=\"yes\";\n",
    "while t==\"yes\":\n",
    "    a= input(\"Player A, Rock Paper Scissors?\") \n",
    " \n",
    "    b=input(\"Player B, Rock Paper Scissors?\") \n",
    "    if a=='rock' or a=='Rock':\n",
    "        am= 1 \n",
    "    elif a=='paper' or a=='Paper': \n",
    "        am= 2\n",
    "    elif a=='scissorc' or a=='Scissors':\n",
    "        am=0 \n",
    "    else: \n",
    "        am=-1 \n",
    "    if b=='rock' or b=='Rock':\n",
    "        bm = 1 \n",
    "            \n",
    "    elif b=='paper' or b=='Paper': \n",
    "        bm= 2\n",
    "    elif b=='scissorc' or b=='Scissors':\n",
    "        bm=0\n",
    "    else: \n",
    "        bm=-1 \n",
    "    if am<0 or bm<0: \n",
    "        print (\"Wrong input, try again\") \n",
    "        break\n",
    "    if am==bm: \n",
    "        print(\"Draw!\") \n",
    "    elif am==(bm+1)%3:\n",
    "        print (\"Player A win!\")\n",
    "    elif am==(bm-1)%3: \n",
    "        print (\"Player B win!\") \n",
    "    t= input (\"Do you want to play again?\")\n"
   ]
  },
  {
   "cell_type": "code",
   "execution_count": null,
   "metadata": {},
   "outputs": [],
   "source": [
    "Guess number 3 pepper"
   ]
  },
  {
   "cell_type": "code",
   "execution_count": 2,
   "metadata": {},
   "outputs": [
    {
     "name": "stdout",
     "output_type": "stream",
     "text": [
      "Write your number 6\n",
      "Too low! Try again\n",
      "Write your number 8\n",
      "Too low! Try again\n",
      "Write your number 9\n",
      "Correct!And it only took you 3 tries!\n",
      "Want to try again?yes\n",
      "Write your number 5\n",
      "Too high! Try again\n",
      "Write your number 3\n",
      "Too high! Try again\n",
      "Write your number 2\n",
      "Too high! Try again\n",
      "Write your number 1\n",
      "Correct!And it only took you 4 tries!\n",
      "Want to try again?no\n"
     ]
    }
   ],
   "source": [
    "import random\n",
    "t= 'yes'\n",
    "while t=='yes':\n",
    "    number = random.randint(1,9)\n",
    "\n",
    "    count = 0\n",
    "    guess= 0\n",
    "    while guess != number:\n",
    "        guess= input(\"Write your number \")\n",
    "        count+=1\n",
    "        if  int(guess)<number :\n",
    "            print(\"Too low! Try again\")\n",
    "        elif int(guess) > number:\n",
    "            print(\"Too high! Try again\")\n",
    "        else:\n",
    "            print(\"Correct!And it only took you\",count,\"tries!\")\n",
    "            break\n",
    "    t= input(\"Want to try again? \")"
   ]
  },
  {
   "cell_type": "markdown",
   "metadata": {},
   "source": [
    "Check for prime 3 pepper"
   ]
  },
  {
   "cell_type": "code",
   "execution_count": 16,
   "metadata": {},
   "outputs": [
    {
     "name": "stdout",
     "output_type": "stream",
     "text": [
      "Give me a number 77\n",
      "77\n",
      "It is not prime\n"
     ]
    }
   ],
   "source": [
    "a=int(input(\"Give me a number \"))\n",
    "print (a)\n",
    "if a == 1:\n",
    "    t = False\n",
    "elif a == 2:\n",
    "    t = True\n",
    "else:\n",
    "    for i in range(2, (a//2)+1):\n",
    "        if  a%i ==0 :\n",
    "            t=False\n",
    "            break\n",
    "if t:\n",
    "    print(\"It is prime\")\n",
    "else:\n",
    "    print(\"It is not prime\")\n"
   ]
  },
  {
   "cell_type": "code",
   "execution_count": null,
   "metadata": {},
   "outputs": [],
   "source": [
    "Age 100 2 peppers"
   ]
  },
  {
   "cell_type": "code",
   "execution_count": 17,
   "metadata": {},
   "outputs": [
    {
     "name": "stdout",
     "output_type": "stream",
     "text": [
      "What is your name: Alex\n",
      "How old are you: 105\n",
      "Alex was 100 years old in the year  2014\n"
     ]
    }
   ],
   "source": [
    "n = input(\"What is your name: \")\n",
    "a = int(input(\"How old are you: \"))\n",
    "y = (2019 - a)+100\n",
    "if a<100:\n",
    "    print(n + \" will be 100 years old in the year \",y)\n",
    "else:\n",
    "    print(n + \" was 100 years old in the year \",y)"
   ]
  },
  {
   "cell_type": "markdown",
   "metadata": {},
   "source": [
    "Print smaller then 5 1 pepper"
   ]
  },
  {
   "cell_type": "code",
   "execution_count": 20,
   "metadata": {},
   "outputs": [
    {
     "name": "stdout",
     "output_type": "stream",
     "text": [
      "[1, 1, 2, 3, 5]\n"
     ]
    }
   ],
   "source": [
    "a = [1, 1, 2, 3, 5, 8, 13, 21, 34, 55, 89]\n",
    "b=[]\n",
    "for i in a :\n",
    "    if i<=5:\n",
    "        b.append(i)\n",
    "print(b)\n",
    "        "
   ]
  },
  {
   "cell_type": "code",
   "execution_count": null,
   "metadata": {},
   "outputs": [],
   "source": []
  }
 ],
 "metadata": {
  "kernelspec": {
   "display_name": "Python 3",
   "language": "python",
   "name": "python3"
  },
  "language_info": {
   "codemirror_mode": {
    "name": "ipython",
    "version": 3
   },
   "file_extension": ".py",
   "mimetype": "text/x-python",
   "name": "python",
   "nbconvert_exporter": "python",
   "pygments_lexer": "ipython3",
   "version": "3.6.4"
  }
 },
 "nbformat": 4,
 "nbformat_minor": 2
}
